{
 "cells": [
  {
   "cell_type": "markdown",
   "metadata": {},
   "source": [
    "# Train a pytorch model from scratch\n",
    "\n",
    "This notebook explain how you can try to train a pytorch model from scratch to play Poker."
   ]
  },
  {
   "cell_type": "code",
   "execution_count": null,
   "metadata": {},
   "outputs": [],
   "source": [
    "import torch\n",
    "import torch.nn as nn\n",
    "from torch import optim\n",
    "from torch.utils.data import DataLoader\n",
    "\n",
    "from src.tokenizer_data import short_vocab, PokerTokenizer, PokerDataset, collate_fn\n",
    "from src.models import TransformerModel\n",
    "from src.trainer import train"
   ]
  },
  {
   "cell_type": "markdown",
   "metadata": {},
   "source": [
    "### Dataloader\n",
    "\n",
    "After having downloaded pre-processed data into data/"
   ]
  },
  {
   "cell_type": "code",
   "execution_count": null,
   "metadata": {},
   "outputs": [],
   "source": [
    "data_dir = \"data\"  # should contain json files\n",
    "batch_size = 8\n",
    "\n",
    "tokenizer = PokerTokenizer(short_vocab) # Dedicated tokenizer\n",
    "\n",
    "train_dataset = PokerDataset(data_dir=data_dir, tokenizer=tokenizer, split='train')\n",
    "test_dataset = PokerDataset(data_dir=data_dir, tokenizer=tokenizer, split='test')\n",
    "\n",
    "train_loader = DataLoader(train_dataset, batch_size=batch_size, shuffle=True, collate_fn=collate_fn)\n",
    "test_loader = DataLoader(test_dataset, batch_size=batch_size, shuffle=False, collate_fn=collate_fn)"
   ]
  },
  {
   "cell_type": "markdown",
   "metadata": {},
   "source": [
    "### Create pytorch model"
   ]
  },
  {
   "cell_type": "code",
   "execution_count": null,
   "metadata": {},
   "outputs": [],
   "source": [
    "device = torch.device(\"cuda\" if torch.cuda.is_available() else \"cpu\")\n",
    "pad_token_id = tokenizer.token_to_id[\"[PAD]\"]\n",
    "\n",
    "model = TransformerModel(\n",
    "    ntoken=tokenizer.ntokens,  # vocab size\n",
    "    ninp=768,                  # hidden size (like BERT-base)\n",
    "    nhead=8,                   # number of attention heads\n",
    "    nhid=3072,                 # feedforward size (usually 4x ninp)\n",
    "    nlayers=15,                # number of transformer layers\n",
    "    device=device\n",
    ").to(device)"
   ]
  },
  {
   "cell_type": "markdown",
   "metadata": {},
   "source": [
    "### Training"
   ]
  },
  {
   "cell_type": "code",
   "execution_count": null,
   "metadata": {},
   "outputs": [],
   "source": [
    "criterion = nn.CrossEntropyLoss(ignore_index=tokenizer.token_to_id[\"[PAD]\"])  # Ignore le padding\n",
    "optimizer = optim.Adam(model.parameters(), lr=1e-3)\n",
    "scheduler = optim.lr_scheduler.StepLR(optimizer, step_size=10, gamma=0.95)  # Ajustement du LR\n",
    "\n",
    "train(model, train_loader, test_loader, criterion, optimizer, scheduler, pad_token_id=pad_token_id, num_epochs=5, device=device)"
   ]
  }
 ],
 "metadata": {
  "kernelspec": {
   "display_name": "MVA_venv",
   "language": "python",
   "name": "python3"
  },
  "language_info": {
   "codemirror_mode": {
    "name": "ipython",
    "version": 3
   },
   "file_extension": ".py",
   "mimetype": "text/x-python",
   "name": "python",
   "nbconvert_exporter": "python",
   "pygments_lexer": "ipython3",
   "version": "3.12.6"
  }
 },
 "nbformat": 4,
 "nbformat_minor": 2
}
