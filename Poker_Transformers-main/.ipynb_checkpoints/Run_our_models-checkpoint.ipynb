{
 "cells": [
  {
   "cell_type": "markdown",
   "metadata": {},
   "source": [
    "# Run our models\n",
    "\n",
    "Our training dataset and models are public on Hugging Face, you can get them directly."
   ]
  },
  {
   "cell_type": "code",
   "execution_count": 1,
   "metadata": {},
   "outputs": [
    {
     "name": "stderr",
     "output_type": "stream",
     "text": [
      "c:\\Users\\soelm\\Documents\\04_Code\\MVA\\MVA_venv\\Lib\\site-packages\\tqdm\\auto.py:21: TqdmWarning: IProgress not found. Please update jupyter and ipywidgets. See https://ipywidgets.readthedocs.io/en/stable/user_install.html\n",
      "  from .autonotebook import tqdm as notebook_tqdm\n"
     ]
    }
   ],
   "source": [
    "from transformers import AutoModelForCausalLM, AutoTokenizer, pipeline\n",
    "import torch\n",
    "from datasets import load_dataset\n",
    "from tqdm.auto import tqdm\n",
    "\n",
    "device = 0 if torch.cuda.is_available() else -1"
   ]
  },
  {
   "cell_type": "markdown",
   "metadata": {},
   "source": [
    "### Loading fine-tuned model"
   ]
  },
  {
   "cell_type": "code",
   "execution_count": 4,
   "metadata": {},
   "outputs": [],
   "source": [
    "model = AutoModelForCausalLM.from_pretrained(\"SoelMgd/Poker_SmolLM\")\n",
    "tokenizer = AutoTokenizer.from_pretrained(\"HuggingFaceTB/SmolLM2-135M\")\n",
    "tokenizer.pad_token = tokenizer.eos_token"
   ]
  },
  {
   "cell_type": "markdown",
   "metadata": {},
   "source": [
    "### Loading base model + LORA weights\n",
    "\n",
    "Instead of using our fine-tuned model, you can also use the base model + LORA weights fine tuned"
   ]
  },
  {
   "cell_type": "raw",
   "metadata": {
    "vscode": {
     "languageId": "raw"
    }
   },
   "source": [
    "base_model = AutoModelForCausalLM.from_pretrained(\"HuggingFaceTB/SmolLM2-135M\")\n",
    "base_model = base_model.to(device)\n",
    "tokenizer = AutoTokenizer.from_pretrained(\"HuggingFaceTB/SmolLM2-135M\")\n",
    "tokenizer.pad_token = tokenizer.eos_token\n",
    "\n",
    "lora_config = LoraConfig.from_pretrained(\"SoelMgd/Poker_LORA\") # adding LORA weights\n",
    "model = get_peft_model(base_model, lora_config).to(device) # adding LORA"
   ]
  },
  {
   "cell_type": "markdown",
   "metadata": {},
   "source": [
    "### Testing with a prompt"
   ]
  },
  {
   "cell_type": "code",
   "execution_count": 5,
   "metadata": {},
   "outputs": [
    {
     "name": "stderr",
     "output_type": "stream",
     "text": [
      "c:\\Users\\soelm\\Documents\\04_Code\\MVA\\MVA_venv\\Lib\\site-packages\\huggingface_hub\\file_download.py:140: UserWarning: `huggingface_hub` cache-system uses symlinks by default to efficiently store duplicated files but your machine does not support them in C:\\Users\\soelm\\.cache\\huggingface\\hub\\datasets--SoelMgd--Poker_Dataset. Caching files will still work but in a degraded version that might require more space on your disk. This warning can be disabled by setting the `HF_HUB_DISABLE_SYMLINKS_WARNING` environment variable. For more details, see https://huggingface.co/docs/huggingface_hub/how-to-cache#limitations.\n",
      "To support symlinks on Windows, you either need to activate Developer Mode or to run Python as an administrator. In order to activate developer mode, see this article: https://docs.microsoft.com/en-us/windows/apps/get-started/enable-your-device-for-development\n",
      "  warnings.warn(message)\n",
      "Generating train split: 100%|██████████| 47178/47178 [00:00<00:00, 615978.79 examples/s]\n",
      "Generating test split: 100%|██████████| 5243/5243 [00:00<00:00, 874313.61 examples/s]"
     ]
    },
    {
     "name": "stdout",
     "output_type": "stream",
     "text": [
      "Example:\n",
      "Question: [TABLE_CONFIGURATION]\n",
      "BTN=P2\n",
      "SB=P3 0.5BB\n",
      "BB=P4 1BB\n",
      "\n",
      "[STACKS]\n",
      "P1: 20.8BB\n",
      "P2: 23.4BB [Kc 8c]\n",
      "P3: 32.7BB\n",
      "P4: 83.2BB\n",
      "P5: 56.1BB\n",
      "POT=1.5BB\n",
      "\n",
      "[PREFLOP]\n",
      "P5: FOLD\n",
      "P1: FOLD\n",
      "P2: RAISE 2BB\n",
      "P3: CALL 1BB\n",
      "P4: CALL 1BB\n",
      "\n",
      "[STACKS]\n",
      "P2: 21.4BB [Kc 8c]\n",
      "P3: 31.2BB\n",
      "P4: 82.2BB\n",
      "POT=6.0BB\n",
      "\n",
      "[FLOP][4d 7d Ah]\n",
      "P3: CHECK\n",
      "P4: CHECK\n",
      "P2:\n",
      "Ground Truth Answer: BET 1BB\n"
     ]
    },
    {
     "name": "stderr",
     "output_type": "stream",
     "text": [
      "\n"
     ]
    }
   ],
   "source": [
    "dataset = load_dataset(\"SoelMgd/Poker_Dataset\")\n",
    "test_example = dataset[\"test\"][0]  # get the first test example\n",
    "\n",
    "# Display the raw test example\n",
    "print(\"Example:\")\n",
    "print(\"Question:\", test_example[\"question\"])\n",
    "print(\"Ground Truth Answer:\", test_example[\"answer\"])"
   ]
  },
  {
   "cell_type": "code",
   "execution_count": 7,
   "metadata": {},
   "outputs": [
    {
     "name": "stderr",
     "output_type": "stream",
     "text": [
      "Device set to use cpu\n"
     ]
    },
    {
     "name": "stdout",
     "output_type": "stream",
     "text": [
      "\n",
      "Generated answer:   BET 2BB\n",
      "Ground Truth Answer: BET 1BB\n"
     ]
    }
   ],
   "source": [
    "# Generation pipeline\n",
    "text_gen = pipeline(\"text-generation\", model=model, tokenizer=tokenizer, return_full_text=False, device=device)\n",
    "\n",
    "# Generate an answer using the pipeline\n",
    "result = text_gen(test_example[\"question\"], max_new_tokens=5, do_sample=False)\n",
    "generated_answer = result[0][\"generated_text\"]\n",
    "\n",
    "print(\"\\nGenerated answer: \", generated_answer)\n",
    "print(\"Ground Truth Answer:\", test_example[\"answer\"])"
   ]
  }
 ],
 "metadata": {
  "kaggle": {
   "accelerator": "nvidiaTeslaT4",
   "dataSources": [],
   "dockerImageVersionId": 30918,
   "isGpuEnabled": true,
   "isInternetEnabled": true,
   "language": "python",
   "sourceType": "notebook"
  },
  "kernelspec": {
   "display_name": "MVA_venv",
   "language": "python",
   "name": "python3"
  },
  "language_info": {
   "codemirror_mode": {
    "name": "ipython",
    "version": 3
   },
   "file_extension": ".py",
   "mimetype": "text/x-python",
   "name": "python",
   "nbconvert_exporter": "python",
   "pygments_lexer": "ipython3",
   "version": "3.12.6"
  }
 },
 "nbformat": 4,
 "nbformat_minor": 4
}
